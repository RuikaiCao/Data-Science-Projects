{
 "cells": [
  {
   "cell_type": "code",
   "execution_count": 1,
   "metadata": {},
   "outputs": [],
   "source": [
    "import xgboost as xgb\n",
    "import lightgbm as lgb\n",
    "import sklearn\n",
    "import matplotlib\n",
    "import matplotlib.pyplot as plt\n",
    "%matplotlib inline\n",
    "import statsmodels\n",
    "import statsmodels.api as sm"
   ]
  },
  {
   "cell_type": "code",
   "execution_count": 2,
   "metadata": {},
   "outputs": [
    {
     "name": "stdout",
     "output_type": "stream",
     "text": [
      "xgboost version: 0.72.1\n",
      "lightgbm version: 2.1.2\n",
      "sci-kit learn version: 0.19.1\n",
      "statsmodels version: 0.9.0\n",
      "matplotlib version: 2.2.2\n"
     ]
    }
   ],
   "source": [
    "print(\"xgboost version: {}\".format(xgb.__version__))\n",
    "print(\"lightgbm version: {}\".format(lgb.__version__))\n",
    "print('sci-kit learn version: {}'.format(sklearn.__version__))\n",
    "print('statsmodels version: {}'.format(statsmodels.__version__))\n",
    "print('matplotlib version: {}'.format(matplotlib.__version__))"
   ]
  },
  {
   "cell_type": "code",
   "execution_count": null,
   "metadata": {},
   "outputs": [],
   "source": []
  }
 ],
 "metadata": {
  "kernelspec": {
   "display_name": "Python 3 (gbm)",
   "language": "python",
   "name": "gbm"
  },
  "language_info": {
   "codemirror_mode": {
    "name": "ipython",
    "version": 3
   },
   "file_extension": ".py",
   "mimetype": "text/x-python",
   "name": "python",
   "nbconvert_exporter": "python",
   "pygments_lexer": "ipython3",
   "version": "3.6.6"
  }
 },
 "nbformat": 4,
 "nbformat_minor": 2
}
